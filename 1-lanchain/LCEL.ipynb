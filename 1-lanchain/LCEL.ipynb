{
 "cells": [
  {
   "cell_type": "code",
   "execution_count": 1,
   "id": "3b527456",
   "metadata": {},
   "outputs": [
    {
     "name": "stdout",
     "output_type": "stream",
     "text": [
      "Requirement already satisfied: langchain in c:\\users\\spars\\onedrive\\desktop\\sparsha\\ai_projects\\langchain\\venv\\lib\\site-packages (0.3.27)\n",
      "Requirement already satisfied: requests<3,>=2 in c:\\users\\spars\\onedrive\\desktop\\sparsha\\ai_projects\\langchain\\venv\\lib\\site-packages (from langchain) (2.32.4)\n",
      "Requirement already satisfied: PyYAML>=5.3 in c:\\users\\spars\\onedrive\\desktop\\sparsha\\ai_projects\\langchain\\venv\\lib\\site-packages (from langchain) (6.0.2)\n",
      "Requirement already satisfied: pydantic<3.0.0,>=2.7.4 in c:\\users\\spars\\onedrive\\desktop\\sparsha\\ai_projects\\langchain\\venv\\lib\\site-packages (from langchain) (2.11.7)\n",
      "Requirement already satisfied: async-timeout<5.0.0,>=4.0.0 in c:\\users\\spars\\onedrive\\desktop\\sparsha\\ai_projects\\langchain\\venv\\lib\\site-packages (from langchain) (4.0.3)\n",
      "Requirement already satisfied: langsmith>=0.1.17 in c:\\users\\spars\\onedrive\\desktop\\sparsha\\ai_projects\\langchain\\venv\\lib\\site-packages (from langchain) (0.4.14)\n",
      "Requirement already satisfied: langchain-text-splitters<1.0.0,>=0.3.9 in c:\\users\\spars\\onedrive\\desktop\\sparsha\\ai_projects\\langchain\\venv\\lib\\site-packages (from langchain) (0.3.9)\n",
      "Requirement already satisfied: SQLAlchemy<3,>=1.4 in c:\\users\\spars\\onedrive\\desktop\\sparsha\\ai_projects\\langchain\\venv\\lib\\site-packages (from langchain) (2.0.43)\n",
      "Requirement already satisfied: langchain-core<1.0.0,>=0.3.72 in c:\\users\\spars\\onedrive\\desktop\\sparsha\\ai_projects\\langchain\\venv\\lib\\site-packages (from langchain) (0.3.74)\n",
      "Requirement already satisfied: tenacity!=8.4.0,<10.0.0,>=8.1.0 in c:\\users\\spars\\onedrive\\desktop\\sparsha\\ai_projects\\langchain\\venv\\lib\\site-packages (from langchain-core<1.0.0,>=0.3.72->langchain) (9.1.2)\n",
      "Requirement already satisfied: jsonpatch<2.0,>=1.33 in c:\\users\\spars\\onedrive\\desktop\\sparsha\\ai_projects\\langchain\\venv\\lib\\site-packages (from langchain-core<1.0.0,>=0.3.72->langchain) (1.33)\n",
      "Requirement already satisfied: packaging>=23.2 in c:\\users\\spars\\onedrive\\desktop\\sparsha\\ai_projects\\langchain\\venv\\lib\\site-packages (from langchain-core<1.0.0,>=0.3.72->langchain) (25.0)\n",
      "Requirement already satisfied: typing-extensions>=4.7 in c:\\users\\spars\\onedrive\\desktop\\sparsha\\ai_projects\\langchain\\venv\\lib\\site-packages (from langchain-core<1.0.0,>=0.3.72->langchain) (4.14.1)\n",
      "Requirement already satisfied: jsonpointer>=1.9 in c:\\users\\spars\\onedrive\\desktop\\sparsha\\ai_projects\\langchain\\venv\\lib\\site-packages (from jsonpatch<2.0,>=1.33->langchain-core<1.0.0,>=0.3.72->langchain) (3.0.0)\n",
      "Requirement already satisfied: httpx<1,>=0.23.0 in c:\\users\\spars\\onedrive\\desktop\\sparsha\\ai_projects\\langchain\\venv\\lib\\site-packages (from langsmith>=0.1.17->langchain) (0.28.1)\n",
      "Requirement already satisfied: zstandard>=0.23.0 in c:\\users\\spars\\onedrive\\desktop\\sparsha\\ai_projects\\langchain\\venv\\lib\\site-packages (from langsmith>=0.1.17->langchain) (0.23.0)\n",
      "Requirement already satisfied: orjson>=3.9.14 in c:\\users\\spars\\onedrive\\desktop\\sparsha\\ai_projects\\langchain\\venv\\lib\\site-packages (from langsmith>=0.1.17->langchain) (3.11.2)\n",
      "Requirement already satisfied: requests-toolbelt>=1.0.0 in c:\\users\\spars\\onedrive\\desktop\\sparsha\\ai_projects\\langchain\\venv\\lib\\site-packages (from langsmith>=0.1.17->langchain) (1.0.0)\n",
      "Requirement already satisfied: httpcore==1.* in c:\\users\\spars\\onedrive\\desktop\\sparsha\\ai_projects\\langchain\\venv\\lib\\site-packages (from httpx<1,>=0.23.0->langsmith>=0.1.17->langchain) (1.0.9)\n",
      "Requirement already satisfied: idna in c:\\users\\spars\\onedrive\\desktop\\sparsha\\ai_projects\\langchain\\venv\\lib\\site-packages (from httpx<1,>=0.23.0->langsmith>=0.1.17->langchain) (3.10)\n",
      "Requirement already satisfied: anyio in c:\\users\\spars\\onedrive\\desktop\\sparsha\\ai_projects\\langchain\\venv\\lib\\site-packages (from httpx<1,>=0.23.0->langsmith>=0.1.17->langchain) (4.10.0)\n",
      "Requirement already satisfied: certifi in c:\\users\\spars\\onedrive\\desktop\\sparsha\\ai_projects\\langchain\\venv\\lib\\site-packages (from httpx<1,>=0.23.0->langsmith>=0.1.17->langchain) (2025.8.3)\n",
      "Requirement already satisfied: h11>=0.16 in c:\\users\\spars\\onedrive\\desktop\\sparsha\\ai_projects\\langchain\\venv\\lib\\site-packages (from httpcore==1.*->httpx<1,>=0.23.0->langsmith>=0.1.17->langchain) (0.16.0)\n",
      "Requirement already satisfied: annotated-types>=0.6.0 in c:\\users\\spars\\onedrive\\desktop\\sparsha\\ai_projects\\langchain\\venv\\lib\\site-packages (from pydantic<3.0.0,>=2.7.4->langchain) (0.7.0)\n",
      "Requirement already satisfied: pydantic-core==2.33.2 in c:\\users\\spars\\onedrive\\desktop\\sparsha\\ai_projects\\langchain\\venv\\lib\\site-packages (from pydantic<3.0.0,>=2.7.4->langchain) (2.33.2)\n",
      "Requirement already satisfied: typing-inspection>=0.4.0 in c:\\users\\spars\\onedrive\\desktop\\sparsha\\ai_projects\\langchain\\venv\\lib\\site-packages (from pydantic<3.0.0,>=2.7.4->langchain) (0.4.1)\n",
      "Requirement already satisfied: charset_normalizer<4,>=2 in c:\\users\\spars\\onedrive\\desktop\\sparsha\\ai_projects\\langchain\\venv\\lib\\site-packages (from requests<3,>=2->langchain) (3.4.3)\n",
      "Requirement already satisfied: urllib3<3,>=1.21.1 in c:\\users\\spars\\onedrive\\desktop\\sparsha\\ai_projects\\langchain\\venv\\lib\\site-packages (from requests<3,>=2->langchain) (2.5.0)\n",
      "Requirement already satisfied: greenlet>=1 in c:\\users\\spars\\onedrive\\desktop\\sparsha\\ai_projects\\langchain\\venv\\lib\\site-packages (from SQLAlchemy<3,>=1.4->langchain) (3.2.4)\n",
      "Requirement already satisfied: sniffio>=1.1 in c:\\users\\spars\\onedrive\\desktop\\sparsha\\ai_projects\\langchain\\venv\\lib\\site-packages (from anyio->httpx<1,>=0.23.0->langsmith>=0.1.17->langchain) (1.3.1)\n",
      "Requirement already satisfied: exceptiongroup>=1.0.2 in c:\\users\\spars\\onedrive\\desktop\\sparsha\\ai_projects\\langchain\\venv\\lib\\site-packages (from anyio->httpx<1,>=0.23.0->langsmith>=0.1.17->langchain) (1.3.0)\n",
      "Note: you may need to restart the kernel to use updated packages.\n"
     ]
    },
    {
     "name": "stderr",
     "output_type": "stream",
     "text": [
      "WARNING: You are using pip version 21.2.3; however, version 25.2 is available.\n",
      "You should consider upgrading via the 'c:\\Users\\spars\\OneDrive\\Desktop\\Sparsha\\Ai_Projects\\Langchain\\venv\\Scripts\\python.exe -m pip install --upgrade pip' command.\n"
     ]
    }
   ],
   "source": [
    "pip install langchain"
   ]
  },
  {
   "cell_type": "markdown",
   "id": "ca0e8fc4",
   "metadata": {},
   "source": [
    "In this we will try to translate english to different language texts "
   ]
  },
  {
   "cell_type": "code",
   "execution_count": 2,
   "id": "1bdf7f41",
   "metadata": {},
   "outputs": [
    {
     "data": {
      "text/plain": [
       "'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'"
      ]
     },
     "execution_count": 2,
     "metadata": {},
     "output_type": "execute_result"
    }
   ],
   "source": [
    "###Open AI API key and Open source models : LLAma3, Gemma2, Mistral ... by using platform Groq\n",
    "import os\n",
    "from dotenv import load_dotenv\n",
    "load_dotenv()\n",
    "\n",
    "import openai\n",
    "openai.api_key = os.getenv(\"OPENAI_API_KEY\")\n",
    "groq_api_key = os.getenv(\"GROQ_API_KEY\")\n",
    "groq_api_key"
   ]
  },
  {
   "cell_type": "code",
   "execution_count": 3,
   "id": "bc6d3dd4",
   "metadata": {},
   "outputs": [
    {
     "name": "stdout",
     "output_type": "stream",
     "text": [
      "Collecting langchain_groq\n",
      "  Downloading langchain_groq-0.3.7-py3-none-any.whl (16 kB)\n",
      "Requirement already satisfied: langchain-core<1.0.0,>=0.3.72 in c:\\users\\spars\\onedrive\\desktop\\sparsha\\ai_projects\\langchain\\venv\\lib\\site-packages (from langchain_groq) (0.3.74)\n",
      "Collecting groq<1,>=0.30.0\n",
      "  Using cached groq-0.31.0-py3-none-any.whl (131 kB)\n",
      "Requirement already satisfied: sniffio in c:\\users\\spars\\onedrive\\desktop\\sparsha\\ai_projects\\langchain\\venv\\lib\\site-packages (from groq<1,>=0.30.0->langchain_groq) (1.3.1)\n",
      "Requirement already satisfied: pydantic<3,>=1.9.0 in c:\\users\\spars\\onedrive\\desktop\\sparsha\\ai_projects\\langchain\\venv\\lib\\site-packages (from groq<1,>=0.30.0->langchain_groq) (2.11.7)\n",
      "Requirement already satisfied: typing-extensions<5,>=4.10 in c:\\users\\spars\\onedrive\\desktop\\sparsha\\ai_projects\\langchain\\venv\\lib\\site-packages (from groq<1,>=0.30.0->langchain_groq) (4.14.1)\n",
      "Requirement already satisfied: httpx<1,>=0.23.0 in c:\\users\\spars\\onedrive\\desktop\\sparsha\\ai_projects\\langchain\\venv\\lib\\site-packages (from groq<1,>=0.30.0->langchain_groq) (0.28.1)\n",
      "Requirement already satisfied: distro<2,>=1.7.0 in c:\\users\\spars\\onedrive\\desktop\\sparsha\\ai_projects\\langchain\\venv\\lib\\site-packages (from groq<1,>=0.30.0->langchain_groq) (1.9.0)\n",
      "Requirement already satisfied: anyio<5,>=3.5.0 in c:\\users\\spars\\onedrive\\desktop\\sparsha\\ai_projects\\langchain\\venv\\lib\\site-packages (from groq<1,>=0.30.0->langchain_groq) (4.10.0)\n",
      "Requirement already satisfied: exceptiongroup>=1.0.2 in c:\\users\\spars\\onedrive\\desktop\\sparsha\\ai_projects\\langchain\\venv\\lib\\site-packages (from anyio<5,>=3.5.0->groq<1,>=0.30.0->langchain_groq) (1.3.0)\n",
      "Requirement already satisfied: idna>=2.8 in c:\\users\\spars\\onedrive\\desktop\\sparsha\\ai_projects\\langchain\\venv\\lib\\site-packages (from anyio<5,>=3.5.0->groq<1,>=0.30.0->langchain_groq) (3.10)\n",
      "Requirement already satisfied: httpcore==1.* in c:\\users\\spars\\onedrive\\desktop\\sparsha\\ai_projects\\langchain\\venv\\lib\\site-packages (from httpx<1,>=0.23.0->groq<1,>=0.30.0->langchain_groq) (1.0.9)\n",
      "Requirement already satisfied: certifi in c:\\users\\spars\\onedrive\\desktop\\sparsha\\ai_projects\\langchain\\venv\\lib\\site-packages (from httpx<1,>=0.23.0->groq<1,>=0.30.0->langchain_groq) (2025.8.3)\n",
      "Requirement already satisfied: h11>=0.16 in c:\\users\\spars\\onedrive\\desktop\\sparsha\\ai_projects\\langchain\\venv\\lib\\site-packages (from httpcore==1.*->httpx<1,>=0.23.0->groq<1,>=0.30.0->langchain_groq) (0.16.0)\n",
      "Requirement already satisfied: langsmith>=0.3.45 in c:\\users\\spars\\onedrive\\desktop\\sparsha\\ai_projects\\langchain\\venv\\lib\\site-packages (from langchain-core<1.0.0,>=0.3.72->langchain_groq) (0.4.14)\n",
      "Requirement already satisfied: packaging>=23.2 in c:\\users\\spars\\onedrive\\desktop\\sparsha\\ai_projects\\langchain\\venv\\lib\\site-packages (from langchain-core<1.0.0,>=0.3.72->langchain_groq) (25.0)\n",
      "Requirement already satisfied: tenacity!=8.4.0,<10.0.0,>=8.1.0 in c:\\users\\spars\\onedrive\\desktop\\sparsha\\ai_projects\\langchain\\venv\\lib\\site-packages (from langchain-core<1.0.0,>=0.3.72->langchain_groq) (9.1.2)\n",
      "Requirement already satisfied: jsonpatch<2.0,>=1.33 in c:\\users\\spars\\onedrive\\desktop\\sparsha\\ai_projects\\langchain\\venv\\lib\\site-packages (from langchain-core<1.0.0,>=0.3.72->langchain_groq) (1.33)\n",
      "Requirement already satisfied: PyYAML>=5.3 in c:\\users\\spars\\onedrive\\desktop\\sparsha\\ai_projects\\langchain\\venv\\lib\\site-packages (from langchain-core<1.0.0,>=0.3.72->langchain_groq) (6.0.2)\n",
      "Requirement already satisfied: jsonpointer>=1.9 in c:\\users\\spars\\onedrive\\desktop\\sparsha\\ai_projects\\langchain\\venv\\lib\\site-packages (from jsonpatch<2.0,>=1.33->langchain-core<1.0.0,>=0.3.72->langchain_groq) (3.0.0)\n",
      "Requirement already satisfied: requests>=2.0.0 in c:\\users\\spars\\onedrive\\desktop\\sparsha\\ai_projects\\langchain\\venv\\lib\\site-packages (from langsmith>=0.3.45->langchain-core<1.0.0,>=0.3.72->langchain_groq) (2.32.4)\n",
      "Requirement already satisfied: zstandard>=0.23.0 in c:\\users\\spars\\onedrive\\desktop\\sparsha\\ai_projects\\langchain\\venv\\lib\\site-packages (from langsmith>=0.3.45->langchain-core<1.0.0,>=0.3.72->langchain_groq) (0.23.0)\n",
      "Requirement already satisfied: requests-toolbelt>=1.0.0 in c:\\users\\spars\\onedrive\\desktop\\sparsha\\ai_projects\\langchain\\venv\\lib\\site-packages (from langsmith>=0.3.45->langchain-core<1.0.0,>=0.3.72->langchain_groq) (1.0.0)\n",
      "Requirement already satisfied: orjson>=3.9.14 in c:\\users\\spars\\onedrive\\desktop\\sparsha\\ai_projects\\langchain\\venv\\lib\\site-packages (from langsmith>=0.3.45->langchain-core<1.0.0,>=0.3.72->langchain_groq) (3.11.2)\n",
      "Requirement already satisfied: annotated-types>=0.6.0 in c:\\users\\spars\\onedrive\\desktop\\sparsha\\ai_projects\\langchain\\venv\\lib\\site-packages (from pydantic<3,>=1.9.0->groq<1,>=0.30.0->langchain_groq) (0.7.0)\n",
      "Requirement already satisfied: pydantic-core==2.33.2 in c:\\users\\spars\\onedrive\\desktop\\sparsha\\ai_projects\\langchain\\venv\\lib\\site-packages (from pydantic<3,>=1.9.0->groq<1,>=0.30.0->langchain_groq) (2.33.2)\n",
      "Requirement already satisfied: typing-inspection>=0.4.0 in c:\\users\\spars\\onedrive\\desktop\\sparsha\\ai_projects\\langchain\\venv\\lib\\site-packages (from pydantic<3,>=1.9.0->groq<1,>=0.30.0->langchain_groq) (0.4.1)\n",
      "Requirement already satisfied: charset_normalizer<4,>=2 in c:\\users\\spars\\onedrive\\desktop\\sparsha\\ai_projects\\langchain\\venv\\lib\\site-packages (from requests>=2.0.0->langsmith>=0.3.45->langchain-core<1.0.0,>=0.3.72->langchain_groq) (3.4.3)\n",
      "Requirement already satisfied: urllib3<3,>=1.21.1 in c:\\users\\spars\\onedrive\\desktop\\sparsha\\ai_projects\\langchain\\venv\\lib\\site-packages (from requests>=2.0.0->langsmith>=0.3.45->langchain-core<1.0.0,>=0.3.72->langchain_groq) (2.5.0)\n",
      "Installing collected packages: groq, langchain-groq\n",
      "Successfully installed groq-0.31.0 langchain-groq-0.3.7\n"
     ]
    },
    {
     "name": "stderr",
     "output_type": "stream",
     "text": [
      "WARNING: You are using pip version 21.2.3; however, version 25.2 is available.\n",
      "You should consider upgrading via the 'C:\\Users\\spars\\OneDrive\\Desktop\\Sparsha\\Ai_Projects\\Langchain\\venv\\Scripts\\python.exe -m pip install --upgrade pip' command.\n"
     ]
    }
   ],
   "source": [
    "!pip install langchain_groq"
   ]
  },
  {
   "cell_type": "code",
   "execution_count": 5,
   "id": "1f400c4a",
   "metadata": {},
   "outputs": [
    {
     "data": {
      "text/plain": [
       "ChatGroq(client=<groq.resources.chat.completions.Completions object at 0x000001D146527490>, async_client=<groq.resources.chat.completions.AsyncCompletions object at 0x000001D146525000>, model_name='Gemma2-9b-It', model_kwargs={}, groq_api_key=SecretStr('**********'))"
      ]
     },
     "execution_count": 5,
     "metadata": {},
     "output_type": "execute_result"
    }
   ],
   "source": [
    "from langchain_openai import ChatOpenAI\n",
    "from langchain_groq import ChatGroq\n",
    "model = ChatGroq(model=\"Gemma2-9b-It\", groq_api_key=groq_api_key)\n",
    "model"
   ]
  },
  {
   "cell_type": "code",
   "execution_count": 6,
   "id": "d1ea6622",
   "metadata": {},
   "outputs": [
    {
     "name": "stdout",
     "output_type": "stream",
     "text": [
      "Requirement already satisfied: langchain_core in c:\\users\\spars\\onedrive\\desktop\\sparsha\\ai_projects\\langchain\\venv\\lib\\site-packages (0.3.74)\n",
      "Requirement already satisfied: PyYAML>=5.3 in c:\\users\\spars\\onedrive\\desktop\\sparsha\\ai_projects\\langchain\\venv\\lib\\site-packages (from langchain_core) (6.0.2)\n",
      "Requirement already satisfied: packaging>=23.2 in c:\\users\\spars\\onedrive\\desktop\\sparsha\\ai_projects\\langchain\\venv\\lib\\site-packages (from langchain_core) (25.0)\n",
      "Requirement already satisfied: typing-extensions>=4.7 in c:\\users\\spars\\onedrive\\desktop\\sparsha\\ai_projects\\langchain\\venv\\lib\\site-packages (from langchain_core) (4.14.1)\n",
      "Requirement already satisfied: pydantic>=2.7.4 in c:\\users\\spars\\onedrive\\desktop\\sparsha\\ai_projects\\langchain\\venv\\lib\\site-packages (from langchain_core) (2.11.7)\n",
      "Requirement already satisfied: jsonpatch<2.0,>=1.33 in c:\\users\\spars\\onedrive\\desktop\\sparsha\\ai_projects\\langchain\\venv\\lib\\site-packages (from langchain_core) (1.33)\n",
      "Requirement already satisfied: langsmith>=0.3.45 in c:\\users\\spars\\onedrive\\desktop\\sparsha\\ai_projects\\langchain\\venv\\lib\\site-packages (from langchain_core) (0.4.14)\n",
      "Requirement already satisfied: tenacity!=8.4.0,<10.0.0,>=8.1.0 in c:\\users\\spars\\onedrive\\desktop\\sparsha\\ai_projects\\langchain\\venv\\lib\\site-packages (from langchain_core) (9.1.2)\n",
      "Requirement already satisfied: jsonpointer>=1.9 in c:\\users\\spars\\onedrive\\desktop\\sparsha\\ai_projects\\langchain\\venv\\lib\\site-packages (from jsonpatch<2.0,>=1.33->langchain_core) (3.0.0)\n",
      "Requirement already satisfied: zstandard>=0.23.0 in c:\\users\\spars\\onedrive\\desktop\\sparsha\\ai_projects\\langchain\\venv\\lib\\site-packages (from langsmith>=0.3.45->langchain_core) (0.23.0)\n",
      "Requirement already satisfied: requests-toolbelt>=1.0.0 in c:\\users\\spars\\onedrive\\desktop\\sparsha\\ai_projects\\langchain\\venv\\lib\\site-packages (from langsmith>=0.3.45->langchain_core) (1.0.0)\n",
      "Requirement already satisfied: requests>=2.0.0 in c:\\users\\spars\\onedrive\\desktop\\sparsha\\ai_projects\\langchain\\venv\\lib\\site-packages (from langsmith>=0.3.45->langchain_core) (2.32.4)\n",
      "Requirement already satisfied: orjson>=3.9.14 in c:\\users\\spars\\onedrive\\desktop\\sparsha\\ai_projects\\langchain\\venv\\lib\\site-packages (from langsmith>=0.3.45->langchain_core) (3.11.2)\n",
      "Requirement already satisfied: httpx<1,>=0.23.0 in c:\\users\\spars\\onedrive\\desktop\\sparsha\\ai_projects\\langchain\\venv\\lib\\site-packages (from langsmith>=0.3.45->langchain_core) (0.28.1)\n",
      "Requirement already satisfied: certifi in c:\\users\\spars\\onedrive\\desktop\\sparsha\\ai_projects\\langchain\\venv\\lib\\site-packages (from httpx<1,>=0.23.0->langsmith>=0.3.45->langchain_core) (2025.8.3)\n",
      "Requirement already satisfied: idna in c:\\users\\spars\\onedrive\\desktop\\sparsha\\ai_projects\\langchain\\venv\\lib\\site-packages (from httpx<1,>=0.23.0->langsmith>=0.3.45->langchain_core) (3.10)\n",
      "Requirement already satisfied: anyio in c:\\users\\spars\\onedrive\\desktop\\sparsha\\ai_projects\\langchain\\venv\\lib\\site-packages (from httpx<1,>=0.23.0->langsmith>=0.3.45->langchain_core) (4.10.0)\n",
      "Requirement already satisfied: httpcore==1.* in c:\\users\\spars\\onedrive\\desktop\\sparsha\\ai_projects\\langchain\\venv\\lib\\site-packages (from httpx<1,>=0.23.0->langsmith>=0.3.45->langchain_core) (1.0.9)\n",
      "Requirement already satisfied: h11>=0.16 in c:\\users\\spars\\onedrive\\desktop\\sparsha\\ai_projects\\langchain\\venv\\lib\\site-packages (from httpcore==1.*->httpx<1,>=0.23.0->langsmith>=0.3.45->langchain_core) (0.16.0)\n",
      "Requirement already satisfied: typing-inspection>=0.4.0 in c:\\users\\spars\\onedrive\\desktop\\sparsha\\ai_projects\\langchain\\venv\\lib\\site-packages (from pydantic>=2.7.4->langchain_core) (0.4.1)\n",
      "Requirement already satisfied: pydantic-core==2.33.2 in c:\\users\\spars\\onedrive\\desktop\\sparsha\\ai_projects\\langchain\\venv\\lib\\site-packages (from pydantic>=2.7.4->langchain_core) (2.33.2)\n",
      "Requirement already satisfied: annotated-types>=0.6.0 in c:\\users\\spars\\onedrive\\desktop\\sparsha\\ai_projects\\langchain\\venv\\lib\\site-packages (from pydantic>=2.7.4->langchain_core) (0.7.0)\n",
      "Requirement already satisfied: charset_normalizer<4,>=2 in c:\\users\\spars\\onedrive\\desktop\\sparsha\\ai_projects\\langchain\\venv\\lib\\site-packages (from requests>=2.0.0->langsmith>=0.3.45->langchain_core) (3.4.3)\n",
      "Requirement already satisfied: urllib3<3,>=1.21.1 in c:\\users\\spars\\onedrive\\desktop\\sparsha\\ai_projects\\langchain\\venv\\lib\\site-packages (from requests>=2.0.0->langsmith>=0.3.45->langchain_core) (2.5.0)\n",
      "Requirement already satisfied: exceptiongroup>=1.0.2 in c:\\users\\spars\\onedrive\\desktop\\sparsha\\ai_projects\\langchain\\venv\\lib\\site-packages (from anyio->httpx<1,>=0.23.0->langsmith>=0.3.45->langchain_core) (1.3.0)\n",
      "Requirement already satisfied: sniffio>=1.1 in c:\\users\\spars\\onedrive\\desktop\\sparsha\\ai_projects\\langchain\\venv\\lib\\site-packages (from anyio->httpx<1,>=0.23.0->langsmith>=0.3.45->langchain_core) (1.3.1)\n"
     ]
    },
    {
     "name": "stderr",
     "output_type": "stream",
     "text": [
      "WARNING: You are using pip version 21.2.3; however, version 25.2 is available.\n",
      "You should consider upgrading via the 'C:\\Users\\spars\\OneDrive\\Desktop\\Sparsha\\Ai_Projects\\Langchain\\venv\\Scripts\\python.exe -m pip install --upgrade pip' command.\n"
     ]
    }
   ],
   "source": [
    "!pip install langchain_core"
   ]
  },
  {
   "cell_type": "code",
   "execution_count": 11,
   "id": "db962b2a",
   "metadata": {},
   "outputs": [
    {
     "data": {
      "text/plain": [
       "AIMessage(content='Hello Bro, How are you?  in Telugu is: \\n\\n**హలో బ్రో, ఎలా ఉన్నావు?** (Halo Bro, ela unnava?)\\n\\n\\nLet me break it down:\\n\\n* **హలో** (Halo) - Hello\\n* **బ్రో** (Bro) - Bro\\n* **ఎలా** (Ela) - How\\n* **ఉన్నావు** (Unnava) - Are you? (Informal, used with friends) \\n\\n\\nYou can also say:\\n\\n* **నేను బాగున్నాను, నువ్వు ఎలా ఉన్నావు?** (Nenu bagunnanu, nuvvu ela unnava?) - I am fine, how are you? \\n\\n', additional_kwargs={}, response_metadata={'token_usage': {'completion_tokens': 158, 'prompt_tokens': 23, 'total_tokens': 181, 'completion_time': 0.287272727, 'prompt_time': 0.001322411, 'queue_time': 0.074334213, 'total_time': 0.288595138}, 'model_name': 'Gemma2-9b-It', 'system_fingerprint': 'fp_10c08bf97d', 'service_tier': 'on_demand', 'finish_reason': 'stop', 'logprobs': None}, id='run--0d81e6a5-0e8d-4435-9b15-b6cf90d96104-0', usage_metadata={'input_tokens': 23, 'output_tokens': 158, 'total_tokens': 181})"
      ]
     },
     "execution_count": 11,
     "metadata": {},
     "output_type": "execute_result"
    }
   ],
   "source": [
    "from langchain_core.messages import HumanMessage, SystemMessage\n",
    "message = [\n",
    "    SystemMessage(content = \"Translate the following English message to Telugu\")\n",
    ",   HumanMessage(content = \"Hello Bro, How are you ?\")\n",
    "]\n",
    "\n",
    "result = model.invoke(message)\n",
    "result"
   ]
  },
  {
   "cell_type": "code",
   "execution_count": 13,
   "id": "1e0269ae",
   "metadata": {},
   "outputs": [
    {
     "data": {
      "text/plain": [
       "'Hello Bro, How are you?  in Telugu is: \\n\\n**హలో బ్రో, ఎలా ఉన్నావు?** (Halo Bro, ela unnava?)\\n\\n\\nLet me break it down:\\n\\n* **హలో** (Halo) - Hello\\n* **బ్రో** (Bro) - Bro\\n* **ఎలా** (Ela) - How\\n* **ఉన్నావు** (Unnava) - Are you? (Informal, used with friends) \\n\\n\\nYou can also say:\\n\\n* **నేను బాగున్నాను, నువ్వు ఎలా ఉన్నావు?** (Nenu bagunnanu, nuvvu ela unnava?) - I am fine, how are you? \\n\\n'"
      ]
     },
     "execution_count": 13,
     "metadata": {},
     "output_type": "execute_result"
    }
   ],
   "source": [
    "from langchain_core.output_parsers import StrOutputParser\n",
    "parser = StrOutputParser()\n",
    "output = parser.invoke(result)\n",
    "output"
   ]
  },
  {
   "cell_type": "code",
   "execution_count": 14,
   "id": "7ff7fd67",
   "metadata": {},
   "outputs": [
    {
     "data": {
      "text/plain": [
       "'Hello Bro, How are you?  translates to: \\n\\n**హలో బ్రో, ఎలా ఉన్నావు?** (Halo Bro, ela unnaavu?) \\n\\n\\nLet me know if you need any other translations! 😊\\n'"
      ]
     },
     "execution_count": 14,
     "metadata": {},
     "output_type": "execute_result"
    }
   ],
   "source": [
    "#Using LCEL - we can chain the models and use them in a swquence\n",
    "chain = model | parser\n",
    "chain.invoke(message)"
   ]
  },
  {
   "cell_type": "code",
   "execution_count": 15,
   "id": "e1c5e6d7",
   "metadata": {},
   "outputs": [],
   "source": [
    "##Prompt Templates\n",
    "from langchain_core.prompts import ChatPromptTemplate\n",
    "generic_template = \"Translate the following into {language}:\"\n",
    "prompt = ChatPromptTemplate.from_messages(\n",
    "    [(\"system\", generic_template),(\"user\",\"{text}\")]\n",
    ")\n"
   ]
  },
  {
   "cell_type": "code",
   "execution_count": 17,
   "id": "c26cd40f",
   "metadata": {},
   "outputs": [],
   "source": [
    "result = prompt.invoke({\"language\":\"Telugu\", \"text\": \"Hello Bro, How are you ?\"})\n"
   ]
  },
  {
   "cell_type": "code",
   "execution_count": 18,
   "id": "61353980",
   "metadata": {},
   "outputs": [
    {
     "data": {
      "text/plain": [
       "[SystemMessage(content='Translate the following into Telugu:', additional_kwargs={}, response_metadata={}),\n",
       " HumanMessage(content='Hello Bro, How are you ?', additional_kwargs={}, response_metadata={})]"
      ]
     },
     "execution_count": 18,
     "metadata": {},
     "output_type": "execute_result"
    }
   ],
   "source": [
    "result.to_messages()"
   ]
  },
  {
   "cell_type": "code",
   "execution_count": 19,
   "id": "33283421",
   "metadata": {},
   "outputs": [
    {
     "data": {
      "text/plain": [
       "'Here are a couple of ways to say \"Hello Bro, How are you?\" in Telugu:\\n\\n**Informal:**\\n\\n* **హలో బ్రో, ఎలా ఉన్నావు?** (Halo Bro, ela unnava?)\\n\\n**Slightly more formal:**\\n\\n* **నమస్తే బ్రో, ఎలా ఉన్నారు?** (Namasthē Bro, ela unnaru?)\\n\\n\\nLet me know if you\\'d like to know more Telugu phrases!\\n'"
      ]
     },
     "execution_count": 19,
     "metadata": {},
     "output_type": "execute_result"
    }
   ],
   "source": [
    "chain = prompt|model|parser\n",
    "chain.invoke({\"language\":\"Telugu\",\"text\" : \"Hello Bro, How are you ?\"})"
   ]
  },
  {
   "cell_type": "code",
   "execution_count": null,
   "id": "b19fb6ef",
   "metadata": {},
   "outputs": [],
   "source": [
    "\n"
   ]
  }
 ],
 "metadata": {
  "kernelspec": {
   "display_name": "venv",
   "language": "python",
   "name": "python3"
  },
  "language_info": {
   "codemirror_mode": {
    "name": "ipython",
    "version": 3
   },
   "file_extension": ".py",
   "mimetype": "text/x-python",
   "name": "python",
   "nbconvert_exporter": "python",
   "pygments_lexer": "ipython3",
   "version": "3.10.0"
  }
 },
 "nbformat": 4,
 "nbformat_minor": 5
}
