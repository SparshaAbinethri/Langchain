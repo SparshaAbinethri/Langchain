{
 "cells": [
  {
   "cell_type": "code",
   "execution_count": 5,
   "id": "385daf39",
   "metadata": {},
   "outputs": [],
   "source": [
    "#Load keys\n",
    "import os\n",
    "from dotenv import load_dotenv\n",
    "load_dotenv()\n",
    "\n",
    "# Load environment variables from .env file\n",
    "os.environ['OPENAI_API_KEY'] = os.getenv('OPENAI_API_KEY')\n",
    "##langsmith tracking\n",
    "os.environ['LANGSMITH_API_KEY'] = os.getenv('LANGSMITH_API_KEY')\n",
    "langsmith_project = os.getenv('LANGSMITH_PROJECT')\n",
    "if langsmith_project is not None:\n",
    "\tos.environ['LANGSMITH_PROJECT'] = langsmith_project\n",
    "os.environ['LANGCHAIN_TRACING_V2'] = \"true\""
   ]
  },
  {
   "cell_type": "code",
   "execution_count": 7,
   "id": "7c149d17",
   "metadata": {},
   "outputs": [],
   "source": [
    "#Data Ingestion from the website \n",
    "from langchain_community.document_loaders import WebBaseLoader\n"
   ]
  },
  {
   "cell_type": "code",
   "execution_count": null,
   "id": "be9591dd",
   "metadata": {},
   "outputs": [],
   "source": [
    "loader = WebbaseLoader('')"
   ]
  },
  {
   "cell_type": "code",
   "execution_count": null,
   "id": "d0903a12",
   "metadata": {},
   "outputs": [],
   "source": []
  }
 ],
 "metadata": {
  "kernelspec": {
   "display_name": "venv",
   "language": "python",
   "name": "python3"
  },
  "language_info": {
   "codemirror_mode": {
    "name": "ipython",
    "version": 3
   },
   "file_extension": ".py",
   "mimetype": "text/x-python",
   "name": "python",
   "nbconvert_exporter": "python",
   "pygments_lexer": "ipython3",
   "version": "3.10.0"
  }
 },
 "nbformat": 4,
 "nbformat_minor": 5
}
